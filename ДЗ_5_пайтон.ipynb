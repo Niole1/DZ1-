{
  "nbformat": 4,
  "nbformat_minor": 0,
  "metadata": {
    "colab": {
      "provenance": [],
      "authorship_tag": "ABX9TyNXmTVaAnhoZ+YW1YfvDxTd",
      "include_colab_link": true
    },
    "kernelspec": {
      "name": "python3",
      "display_name": "Python 3"
    },
    "language_info": {
      "name": "python"
    }
  },
  "cells": [
    {
      "cell_type": "markdown",
      "metadata": {
        "id": "view-in-github",
        "colab_type": "text"
      },
      "source": [
        "<a href=\"https://colab.research.google.com/github/Niole1/DZ1-/blob/main/%D0%94%D0%97_5_%D0%BF%D0%B0%D0%B9%D1%82%D0%BE%D0%BD.ipynb\" target=\"_parent\"><img src=\"https://colab.research.google.com/assets/colab-badge.svg\" alt=\"Open In Colab\"/></a>"
      ]
    },
    {
      "cell_type": "code",
      "execution_count": null,
      "metadata": {
        "id": "so4yrqIni7dw"
      },
      "outputs": [],
      "source": []
    },
    {
      "cell_type": "markdown",
      "source": [
        "**Задача 1** Напишите функцию, которая принимает на вход строку - абсолютный путь до файла. Функция возвращает кортеж из трёх элементов: путь, имя файла, расширение файла."
      ],
      "metadata": {
        "id": "4PGM8iRTjAsI"
      }
    },
    {
      "cell_type": "code",
      "source": [
        "def path_tuple(t: str) -> tuple:\n",
        "    *a, b = t.split('/')\n",
        "    file_name, extension = b.split('.')\n",
        "    path = '/'.join(a)\n",
        "    return path, file_name, extension\n",
        "\n",
        "\n",
        "print(path_tuple('C:/Users/79190/PycharmProjects/for_HW_Python_START/HW_5/task_1.py'))"
      ],
      "metadata": {
        "colab": {
          "base_uri": "https://localhost:8080/"
        },
        "id": "sbhHSW7_jIHd",
        "outputId": "44b608e3-df89-4996-f19c-78aed64a4a49"
      },
      "execution_count": 1,
      "outputs": [
        {
          "output_type": "stream",
          "name": "stdout",
          "text": [
            "('C:/Users/79190/PycharmProjects/for_HW_Python_START/HW_5', 'task_1', 'py')\n"
          ]
        }
      ]
    },
    {
      "cell_type": "markdown",
      "source": [
        "**Задача 2**  Напишите однострочный генератор словаря, который принимает на вход три списка одинаковой длины: имена str, ставка int, премия str с указанием процентов вида “10.25%”. В результате получаем словарь с именем в качестве ключа и суммой премии в качестве значения. Сумма рассчитывается как ставка умноженная на процент премии"
      ],
      "metadata": {
        "id": "2D7IH9FhjT3M"
      }
    },
    {
      "cell_type": "code",
      "source": [
        "names = ['Nata', 'Dania', 'Nina', 'Olga']\n",
        "rate = [100_000, 110_000, 80_000, 90_000]\n",
        "premium = ['10.25%', '12.50%', '15.00%', '9.25%']\n",
        "my_dict = {names[i]: rate[i] * (float(premium[i].replace('%', '')) / 100) for i in range(len(names))}\n",
        "print(my_dict)"
      ],
      "metadata": {
        "colab": {
          "base_uri": "https://localhost:8080/"
        },
        "id": "-iA5FAfgjbrl",
        "outputId": "15573389-3326-49c9-b58c-6c01c9899f92"
      },
      "execution_count": 4,
      "outputs": [
        {
          "output_type": "stream",
          "name": "stdout",
          "text": [
            "{'Nata': 10250.0, 'Dania': 13750.0, 'Nina': 12000.0, 'Olga': 8325.0}\n"
          ]
        }
      ]
    },
    {
      "cell_type": "markdown",
      "source": [
        "**Задача 3 ** Создайте функцию генератор чисел Фибоначчи"
      ],
      "metadata": {
        "id": "ZmU797vjj8fp"
      }
    },
    {
      "cell_type": "code",
      "source": [
        "def fib_numb_generator(num: int):\n",
        "    a, b = 0, 1\n",
        "    for _ in range(num):\n",
        "        yield a\n",
        "        a, b = b, a + b\n",
        "\n",
        "\n",
        "print(list(fib_numb_generator(15)))"
      ],
      "metadata": {
        "colab": {
          "base_uri": "https://localhost:8080/"
        },
        "id": "3HU6jH7zkD8Q",
        "outputId": "b3587b30-e152-45fe-f117-1af1b5940532"
      },
      "execution_count": 6,
      "outputs": [
        {
          "output_type": "stream",
          "name": "stdout",
          "text": [
            "[0, 1, 1, 2, 3, 5, 8, 13, 21, 34, 55, 89, 144, 233, 377]\n"
          ]
        }
      ]
    }
  ]
}