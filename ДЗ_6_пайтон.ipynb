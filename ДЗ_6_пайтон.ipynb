{
  "cells": [
    {
      "cell_type": "markdown",
      "metadata": {
        "id": "view-in-github",
        "colab_type": "text"
      },
      "source": [
        "<a href=\"https://colab.research.google.com/github/Niole1/DZ1-/blob/main/%D0%94%D0%97_6_%D0%BF%D0%B0%D0%B9%D1%82%D0%BE%D0%BD.ipynb\" target=\"_parent\"><img src=\"https://colab.research.google.com/assets/colab-badge.svg\" alt=\"Open In Colab\"/></a>"
      ]
    },
    {
      "cell_type": "markdown",
      "metadata": {
        "id": "vfM80QIgxIyn"
      },
      "source": [
        "**Задача 1. ** В модуль с проверкой даты добавьте возможность запуска в терминале с передачей даты на проверку."
      ]
    },
    {
      "cell_type": "code",
      "execution_count": 22,
      "metadata": {
        "id": "C-ozWxORxPA1"
      },
      "outputs": [],
      "source": [
        "from sys import argv\n",
        "\n",
        "def calend(date: str):\n",
        "    day, month, year = map(int, date.split('.'))\n",
        "    print (day, month, year)\n",
        "    if 1 <= year <= 9999:\n",
        "        if month in [1, 3, 5, 7, 8, 10, 12] and 1 <= day <= 31:\n",
        "            return True\n",
        "        elif month in [4, 6, 9, 11] and 1 <= day <= 30:\n",
        "            return True\n",
        "        elif 1 <= day <= 28 + is_leap_year(year):\n",
        "            return True\n",
        "        else:\n",
        "            return False\n",
        "    return False\n",
        "\n",
        "\n",
        "def is_leap_year(year):\n",
        "    return year % 4 == 0 and year % 100 != 0 or year % 400 == 0\n",
        "def calend_tetminal():\n",
        "    date = argv[1]\n",
        "    print(calend(date))\n"
      ]
    },
    {
      "cell_type": "code",
      "source": [
        "if __name__ == '__main__':\n",
        "    print(calend('27.02.2024'))\n",
        ""
      ],
      "metadata": {
        "colab": {
          "base_uri": "https://localhost:8080/"
        },
        "id": "AwkCB-j4GGub",
        "outputId": "1fb87b93-d63f-40cb-c393-2fceee6c2200"
      },
      "execution_count": 23,
      "outputs": [
        {
          "output_type": "stream",
          "name": "stdout",
          "text": [
            "27 2 2024\n",
            "True\n"
          ]
        }
      ]
    },
    {
      "cell_type": "markdown",
      "metadata": {
        "id": "LpiT7VmUsgaS"
      },
      "source": [
        "**Задача 2 ** Добавьте в пакет, созданный на семинаре шахматный модуль. Внутри него напишите код, решающий задачу о 8 ферзях. Известно, что на доске 8×8 можно расставить 8 ферзей так, чтобы они не били друг друга. Вам дана расстановка 8 ферзей на доске, определите, есть ли среди них пара бьющих друг друга. Программа получает на вход восемь пар чисел, каждое число от 1 до 8 - координаты 8 ферзей. Если ферзи не бьют друг друга верните истину, а если бьют - ложь."
      ]
    },
    {
      "cell_type": "code",
      "execution_count": 24,
      "metadata": {
        "id": "6HzgwD0gssp5"
      },
      "outputs": [],
      "source": [
        "from random import sample\n",
        "\n",
        "BOARD_SIZE = 8\n",
        "\n",
        "\n",
        "def get_random_pos():\n",
        "    pos = sample([(x, y) for x in range(1, BOARD_SIZE + 1) for y in range(1, BOARD_SIZE + 1)], BOARD_SIZE)\n",
        "    return pos\n",
        "\n",
        "\n",
        "def check_queens_disposition(pos):\n",
        "    correct = True\n",
        "    for i in range(len(pos)):\n",
        "        for j in range(i + 1, len(pos)):\n",
        "            if pos[i][0] == pos[j][0] or pos[i][1] == pos[j][1] \\\n",
        "                    or abs(pos[i][1] - pos[j][1]) == abs(pos[i][0] - pos[j][0]):\n",
        "                correct = False\n",
        "                break\n",
        "        if not correct:\n",
        "            break\n",
        "    if correct:\n",
        "        return True\n",
        "    else:\n",
        "        return False\n",
        "\n",
        "\n",
        "def generate_disposition(row, number_queens, cur_pos):\n",
        "    for col in range(number_queens):\n",
        "        if not needed_coord(row, col, cur_pos):\n",
        "            continue\n",
        "        else:\n",
        "            cur_pos[row] = col\n",
        "            if row == (number_queens - 1):\n",
        "                options.append(list(zip(range(len(cur_pos)), cur_pos.copy())))\n",
        "            else:\n",
        "                generate_disposition(row + 1, number_queens, cur_pos)\n",
        "    return options\n",
        "\n",
        "\n",
        "def needed_coord(row, col, cur_pos):\n",
        "    if row == 0:\n",
        "        return True\n",
        "    for r in range(row):\n",
        "        if col == cur_pos[r] or abs(row - r) == abs(col - cur_pos[r]):\n",
        "            return False\n",
        "    return True\n",
        "\n",
        "\n",
        "options = []\n",
        "\n"
      ]
    },
    {
      "cell_type": "code",
      "execution_count": 25,
      "metadata": {
        "colab": {
          "base_uri": "https://localhost:8080/"
        },
        "id": "k5uQIO2ls_44",
        "outputId": "35b4d31c-4b43-40db-eca5-b73a9a5d5a0e"
      },
      "outputs": [
        {
          "output_type": "stream",
          "name": "stdout",
          "text": [
            "[(3, 3), (7, 8), (7, 2), (4, 8), (8, 4), (3, 2), (1, 5), (5, 2)]\n",
            "False\n"
          ]
        }
      ],
      "source": [
        "pos = get_random_pos()\n",
        "print(pos)\n",
        "print(check_queens_disposition(pos))"
      ]
    },
    {
      "cell_type": "markdown",
      "metadata": {
        "id": "4tQeYvzptRNY"
      },
      "source": [
        "**Задача 3**  Напишите функцию в шахматный модуль. Используйте генератор случайных чисел для случайной расстановки ферзей в задаче выше. Проверяйте различный случайные варианты и выведите 4 успешных расстановки."
      ]
    },
    {
      "cell_type": "code",
      "execution_count": null,
      "metadata": {
        "colab": {
          "background_save": true,
          "base_uri": "https://localhost:8080/"
        },
        "id": "VxgeBy4Kttej",
        "outputId": "5728e318-c6e9-4470-880f-5de8ee69edaa"
      },
      "outputs": [
        {
          "name": "stdout",
          "output_type": "stream",
          "text": [
            "[(4, 2), (1, 7), (8, 4), (3, 8), (2, 3), (6, 1), (7, 6), (5, 5)]\n",
            "[(7, 6), (2, 7), (8, 3), (5, 2), (6, 4), (4, 8), (1, 1), (3, 5)]\n",
            "[(4, 4), (5, 7), (1, 5), (6, 1), (3, 8), (7, 6), (8, 2), (2, 3)]\n",
            "[(5, 3), (6, 7), (7, 2), (4, 6), (2, 5), (8, 4), (3, 8), (1, 1)]\n"
          ]
        }
      ],
      "source": [
        "count_rank = 4\n",
        "\n",
        "while count_rank:\n",
        "    pos = get_random_pos()\n",
        "    if check_queens_disposition(pos):\n",
        "        print(pos)\n",
        "        count_rank -= 1"
      ]
    }
  ],
  "metadata": {
    "colab": {
      "provenance": [],
      "authorship_tag": "ABX9TyNT+0fRoSvOFUkwDPIPciDF",
      "include_colab_link": true
    },
    "kernelspec": {
      "display_name": "Python 3",
      "name": "python3"
    },
    "language_info": {
      "name": "python"
    }
  },
  "nbformat": 4,
  "nbformat_minor": 0
}