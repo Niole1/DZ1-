{
  "cells": [
    {
      "cell_type": "markdown",
      "metadata": {
        "id": "view-in-github",
        "colab_type": "text"
      },
      "source": [
        "<a href=\"https://colab.research.google.com/github/Niole1/DZ1-/blob/main/%D0%94%D0%97_%E2%84%964.ipynb\" target=\"_parent\"><img src=\"https://colab.research.google.com/assets/colab-badge.svg\" alt=\"Open In Colab\"/></a>"
      ]
    },
    {
      "cell_type": "markdown",
      "metadata": {
        "id": "c_aeZOszkRlA"
      },
      "source": [
        "** Задача 1** Напишите функцию для транспонирования матрицы"
      ]
    },
    {
      "cell_type": "code",
      "execution_count": null,
      "metadata": {
        "colab": {
          "base_uri": "https://localhost:8080/"
        },
        "id": "3WBz09H6kVnL",
        "outputId": "6033c4bf-6541-4f61-e2bf-102b6506ce02"
      },
      "outputs": [
        {
          "name": "stdout",
          "output_type": "stream",
          "text": [
            "Изначальная матрица:  [[1, 2, 3, 4], [9, 8, 7, 6], [1, 4, 7, 0], [5, 5, 5, 5]]\n",
            "Транспонированная матрица:  [[1, 9, 1, 5], [2, 8, 4, 5], [3, 7, 7, 5], [4, 6, 0, 5]]\n"
          ]
        }
      ],
      "source": [
        "def matrix_transpositions(matrix):\n",
        "    trans_matrix = [[0 for j in range(len(matrix))] for i in range(len(matrix[0]))]\n",
        "\n",
        "    for i in range(len(matrix)):\n",
        "        for j in range(len(matrix[0])):\n",
        "            trans_matrix[j][i] = matrix[i][j]\n",
        "    return(trans_matrix)\n",
        "\n",
        "if __name__ == '__main__':\n",
        "    matrix = [[1, 2, 3, 4],\n",
        "              [9, 8, 7, 6],\n",
        "              [1, 4, 7, 0],\n",
        "              [5, 5, 5, 5]]\n",
        "    print(f\"Изначальная матрица: \", matrix)\n",
        "    print(f\"Транспонированная матрица: \", matrix_transpositions(matrix))"
      ]
    },
    {
      "cell_type": "markdown",
      "metadata": {
        "id": "Ongx_e1Wkmgs"
      },
      "source": [
        "**Задача 2.** Напишите функцию принимающую на вход только ключевые параметры и возвращающую словарь, где ключ — значение переданного аргумента, а значение — имя аргумента. Если ключ не хешируем, используйте его строковое представление."
      ]
    },
    {
      "cell_type": "code",
      "execution_count": null,
      "metadata": {
        "colab": {
          "base_uri": "https://localhost:8080/"
        },
        "id": "sZvgwhIbkrLM",
        "outputId": "e4517d8e-e9d9-480e-a3b1-f572c0580637"
      },
      "outputs": [
        {
          "name": "stdout",
          "output_type": "stream",
          "text": [
            "{'Наталья': 'name', 'Трофимова': 'sername', 'Сергеевна': 'patronymic', '[1, 2, 3]': 'task', \"{'weight': '177', 'height': '75'}\": 'physique'}\n"
          ]
        }
      ],
      "source": [
        "def kwargs_to_dict(**kwargs):\n",
        "    result = {}\n",
        "    for key, value in kwargs.items():\n",
        "        try:\n",
        "            result[value] = key\n",
        "        except:\n",
        "            result[str(value)] = key\n",
        "    return result\n",
        "\n",
        "if __name__ == '__main__':\n",
        "    print(kwargs_to_dict(name='Наталья', sername='Трофимова', patronymic='Сергеевна',\n",
        "                        task=[1, 2, 3],\n",
        "                        physique={'weight': '177', 'height': '75'}))"
      ]
    },
    {
      "cell_type": "markdown",
      "metadata": {
        "id": "Ll2lmpMhlETT"
      },
      "source": [
        "**Задача 3.** Возьмите задачу о банкомате из семинара 2. Разбейте её на отдельные операции — функции. Дополнительно сохраняйте все операции поступления и снятия средств в список."
      ]
    },
    {
      "cell_type": "code",
      "execution_count": null,
      "metadata": {
        "colab": {
          "background_save": true,
          "base_uri": "https://localhost:8080/"
        },
        "id": "Zvi012XflG7y",
        "outputId": "ecfd1afb-ea1b-47be-cc92-9bfc9cf531a5"
      },
      "outputs": [
        {
          "name": "stdout",
          "output_type": "stream",
          "text": [
            "1: Пополнить счет\n",
            "2: Снять со счета\n",
            "3: Выйти из программы\n",
            "400\n",
            "1: Пополнить счет\n",
            "2: Снять со счета\n",
            "3: Выйти из программы\n"
          ]
        }
      ],
      "source": [
        "from decimal import Decimal\n",
        "\n",
        "MIN_SUM = 50\n",
        "PROCENT_COMMISION = Decimal(0.015)\n",
        "MIN_COMISSION = 30\n",
        "MAX_COMISSION = 600\n",
        "BONUS = Decimal(0.03)\n",
        "LIMIT_BEFORE_TAX = 5_000_000\n",
        "TAX_RATE = Decimal(0.1)\n",
        "\n",
        "# Функция меню\n",
        "def menu():\n",
        "    dct = {'1': 'Пополнить счет',\n",
        "           '2': 'Снять со счета',\n",
        "           '3': 'Выйти из программы'}\n",
        "\n",
        "    for k, v in dct.items():\n",
        "        if k.isdigit():\n",
        "            print(f'{k}: {v}')\n",
        "        else:\n",
        "            print(v)\n",
        "\n",
        "# Функция выбора меню\n",
        "def select_an_operation(balance: Decimal, count: int, is_flag: bool):\n",
        "    if balance > LIMIT_BEFORE_TAX:\n",
        "        balance *= (1 - TAX_RATE)\n",
        "\n",
        "    choice = input('Введите команду: ')\n",
        "    if choice == '3':\n",
        "        print(balance)\n",
        "        is_flag = False\n",
        "        return balance, is_flag\n",
        "    elif choice == '1':\n",
        "        balance = give_money(balance)\n",
        "        count += 1\n",
        "    elif choice == '2':\n",
        "        balance = get_money(balance)\n",
        "        count += 1\n",
        "    else:\n",
        "        print('Неверная команда')\n",
        "    if count % 3 == 0:\n",
        "        balance *= (1 + BONUS)\n",
        "\n",
        "    print(balance)\n",
        "    return balance, is_flag\n",
        "\n",
        "# Функция снятия суммы\n",
        "def get_money(balance: Decimal):\n",
        "    money_to_get = Decimal(input('Введите сумму снятия: '))\n",
        "    procent = money_to_get * PROCENT_COMMISION\n",
        "\n",
        "    if money_to_get % MIN_SUM == 0:\n",
        "        if procent < MIN_COMISSION:\n",
        "            procent = MIN_COMISSION\n",
        "        elif procent > MAX_COMISSION:\n",
        "            procent = MAX_COMISSION\n",
        "\n",
        "        if money_to_get + procent <= balance:\n",
        "            return balance - (money_to_get + procent)\n",
        "        else:\n",
        "            print('Недостаточно средств для снятия')\n",
        "            return balance\n",
        "\n",
        "    else:\n",
        "        print('Ошибка снятия денег, сумма должна быть кратна 50')\n",
        "        return balance\n",
        "\n",
        "# Функция пополнения суммы\n",
        "def give_money(balance: Decimal):\n",
        "    money_to_give = Decimal(input('Введите сумму пополнения: '))\n",
        "\n",
        "    if money_to_give % MIN_SUM == 0:\n",
        "        return balance + money_to_give\n",
        "    else:\n",
        "        print('Недостаточно средств для пополнения, сумма не кратна 50')\n",
        "        return balance\n",
        "\n",
        "def run():\n",
        "    balance = 0\n",
        "    count = 1\n",
        "    is_flag = True\n",
        "    while is_flag:\n",
        "        menu()\n",
        "        balance, is_flag = select_an_operation(balance, count, is_flag)\n",
        "\n",
        "def main():\n",
        "    run()\n",
        "\n",
        "if __name__ == '__main__':\n",
        "    main()\n"
      ]
    }
  ],
  "metadata": {
    "colab": {
      "provenance": [],
      "authorship_tag": "ABX9TyPJ1j35gjTcRXEPQ1AFNT5S",
      "include_colab_link": true
    },
    "kernelspec": {
      "display_name": "Python 3",
      "name": "python3"
    },
    "language_info": {
      "name": "python"
    }
  },
  "nbformat": 4,
  "nbformat_minor": 0
}